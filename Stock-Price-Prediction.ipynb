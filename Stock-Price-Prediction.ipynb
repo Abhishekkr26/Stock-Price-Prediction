{
 "cells": [
  {
   "cell_type": "code",
   "execution_count": 2,
   "metadata": {},
   "outputs": [
    {
     "name": "stdout",
     "output_type": "stream",
     "text": [
      "Requirement already satisfied: quandl in d:\\appprogramfiles\\anaconda\\lib\\site-packages (3.6.0)\n",
      "Requirement already satisfied: numpy>=1.8 in d:\\appprogramfiles\\anaconda\\lib\\site-packages (from quandl) (1.19.2)\n",
      "Requirement already satisfied: inflection>=0.3.1 in d:\\appprogramfiles\\anaconda\\lib\\site-packages (from quandl) (0.5.1)\n",
      "Requirement already satisfied: python-dateutil in d:\\appprogramfiles\\anaconda\\lib\\site-packages (from quandl) (2.8.1)\n",
      "Requirement already satisfied: six in d:\\appprogramfiles\\anaconda\\lib\\site-packages (from quandl) (1.15.0)\n",
      "Requirement already satisfied: pandas>=0.14 in d:\\appprogramfiles\\anaconda\\lib\\site-packages (from quandl) (1.1.3)\n",
      "Requirement already satisfied: more-itertools in d:\\appprogramfiles\\anaconda\\lib\\site-packages (from quandl) (8.6.0)\n",
      "Requirement already satisfied: requests>=2.7.0 in d:\\appprogramfiles\\anaconda\\lib\\site-packages (from quandl) (2.24.0)\n",
      "Requirement already satisfied: pytz>=2017.2 in d:\\appprogramfiles\\anaconda\\lib\\site-packages (from pandas>=0.14->quandl) (2020.1)\n",
      "Requirement already satisfied: chardet<4,>=3.0.2 in d:\\appprogramfiles\\anaconda\\lib\\site-packages (from requests>=2.7.0->quandl) (3.0.4)\n",
      "Requirement already satisfied: certifi>=2017.4.17 in d:\\appprogramfiles\\anaconda\\lib\\site-packages (from requests>=2.7.0->quandl) (2020.6.20)\n",
      "Requirement already satisfied: urllib3!=1.25.0,!=1.25.1,<1.26,>=1.21.1 in d:\\appprogramfiles\\anaconda\\lib\\site-packages (from requests>=2.7.0->quandl) (1.25.11)\n",
      "Requirement already satisfied: idna<3,>=2.5 in d:\\appprogramfiles\\anaconda\\lib\\site-packages (from requests>=2.7.0->quandl) (2.10)\n",
      "Note: you may need to restart the kernel to use updated packages.\n"
     ]
    }
   ],
   "source": [
    "pip install quandl"
   ]
  },
  {
   "cell_type": "code",
   "execution_count": 3,
   "metadata": {},
   "outputs": [],
   "source": [
    "import pandas as pd\n",
    "import numpy as np\n",
    "import seaborn as sns\n",
    "import matplotlib.pyplot as plt\n",
    "%matplotlib inline\n",
    "\n",
    "import quandl"
   ]
  },
  {
   "cell_type": "code",
   "execution_count": 4,
   "metadata": {},
   "outputs": [],
   "source": [
    "quandl.ApiConfig.api_key = \"ms2ffZa4SRXqyryaKnyG\""
   ]
  },
  {
   "cell_type": "code",
   "execution_count": 5,
   "metadata": {},
   "outputs": [],
   "source": [
    "df = quandl.get('EOD/AAPl')"
   ]
  },
  {
   "cell_type": "code",
   "execution_count": 6,
   "metadata": {},
   "outputs": [
    {
     "data": {
      "text/html": [
       "<div>\n",
       "<style scoped>\n",
       "    .dataframe tbody tr th:only-of-type {\n",
       "        vertical-align: middle;\n",
       "    }\n",
       "\n",
       "    .dataframe tbody tr th {\n",
       "        vertical-align: top;\n",
       "    }\n",
       "\n",
       "    .dataframe thead th {\n",
       "        text-align: right;\n",
       "    }\n",
       "</style>\n",
       "<table border=\"1\" class=\"dataframe\">\n",
       "  <thead>\n",
       "    <tr style=\"text-align: right;\">\n",
       "      <th></th>\n",
       "      <th>Open</th>\n",
       "      <th>High</th>\n",
       "      <th>Low</th>\n",
       "      <th>Close</th>\n",
       "      <th>Volume</th>\n",
       "      <th>Dividend</th>\n",
       "      <th>Split</th>\n",
       "      <th>Adj_Open</th>\n",
       "      <th>Adj_High</th>\n",
       "      <th>Adj_Low</th>\n",
       "      <th>Adj_Close</th>\n",
       "      <th>Adj_Volume</th>\n",
       "    </tr>\n",
       "    <tr>\n",
       "      <th>Date</th>\n",
       "      <th></th>\n",
       "      <th></th>\n",
       "      <th></th>\n",
       "      <th></th>\n",
       "      <th></th>\n",
       "      <th></th>\n",
       "      <th></th>\n",
       "      <th></th>\n",
       "      <th></th>\n",
       "      <th></th>\n",
       "      <th></th>\n",
       "      <th></th>\n",
       "    </tr>\n",
       "  </thead>\n",
       "  <tbody>\n",
       "    <tr>\n",
       "      <th>2013-09-03</th>\n",
       "      <td>493.10</td>\n",
       "      <td>500.600</td>\n",
       "      <td>487.350</td>\n",
       "      <td>488.580</td>\n",
       "      <td>11854600.0</td>\n",
       "      <td>0.0</td>\n",
       "      <td>1.0</td>\n",
       "      <td>15.619650</td>\n",
       "      <td>15.857223</td>\n",
       "      <td>15.437510</td>\n",
       "      <td>15.476472</td>\n",
       "      <td>331928800.0</td>\n",
       "    </tr>\n",
       "    <tr>\n",
       "      <th>2013-09-04</th>\n",
       "      <td>499.56</td>\n",
       "      <td>502.240</td>\n",
       "      <td>496.280</td>\n",
       "      <td>498.691</td>\n",
       "      <td>12322600.0</td>\n",
       "      <td>0.0</td>\n",
       "      <td>1.0</td>\n",
       "      <td>15.824280</td>\n",
       "      <td>15.909173</td>\n",
       "      <td>15.720381</td>\n",
       "      <td>15.796753</td>\n",
       "      <td>345032800.0</td>\n",
       "    </tr>\n",
       "    <tr>\n",
       "      <th>2013-09-05</th>\n",
       "      <td>500.25</td>\n",
       "      <td>500.680</td>\n",
       "      <td>493.640</td>\n",
       "      <td>495.270</td>\n",
       "      <td>8441700.0</td>\n",
       "      <td>0.0</td>\n",
       "      <td>1.0</td>\n",
       "      <td>15.846136</td>\n",
       "      <td>15.859757</td>\n",
       "      <td>15.636755</td>\n",
       "      <td>15.688388</td>\n",
       "      <td>236367600.0</td>\n",
       "    </tr>\n",
       "    <tr>\n",
       "      <th>2013-09-06</th>\n",
       "      <td>498.44</td>\n",
       "      <td>499.380</td>\n",
       "      <td>489.950</td>\n",
       "      <td>498.220</td>\n",
       "      <td>12840200.0</td>\n",
       "      <td>0.0</td>\n",
       "      <td>1.0</td>\n",
       "      <td>15.788802</td>\n",
       "      <td>15.818578</td>\n",
       "      <td>15.519869</td>\n",
       "      <td>15.781833</td>\n",
       "      <td>359525600.0</td>\n",
       "    </tr>\n",
       "    <tr>\n",
       "      <th>2013-09-09</th>\n",
       "      <td>505.00</td>\n",
       "      <td>507.920</td>\n",
       "      <td>503.480</td>\n",
       "      <td>506.170</td>\n",
       "      <td>12167400.0</td>\n",
       "      <td>0.0</td>\n",
       "      <td>1.0</td>\n",
       "      <td>15.996600</td>\n",
       "      <td>16.089095</td>\n",
       "      <td>15.948451</td>\n",
       "      <td>16.033661</td>\n",
       "      <td>340687200.0</td>\n",
       "    </tr>\n",
       "    <tr>\n",
       "      <th>...</th>\n",
       "      <td>...</td>\n",
       "      <td>...</td>\n",
       "      <td>...</td>\n",
       "      <td>...</td>\n",
       "      <td>...</td>\n",
       "      <td>...</td>\n",
       "      <td>...</td>\n",
       "      <td>...</td>\n",
       "      <td>...</td>\n",
       "      <td>...</td>\n",
       "      <td>...</td>\n",
       "      <td>...</td>\n",
       "    </tr>\n",
       "    <tr>\n",
       "      <th>2017-12-21</th>\n",
       "      <td>174.17</td>\n",
       "      <td>176.020</td>\n",
       "      <td>174.100</td>\n",
       "      <td>175.010</td>\n",
       "      <td>20949896.0</td>\n",
       "      <td>0.0</td>\n",
       "      <td>1.0</td>\n",
       "      <td>41.899570</td>\n",
       "      <td>42.344619</td>\n",
       "      <td>41.882730</td>\n",
       "      <td>42.101646</td>\n",
       "      <td>83799584.0</td>\n",
       "    </tr>\n",
       "    <tr>\n",
       "      <th>2017-12-22</th>\n",
       "      <td>174.68</td>\n",
       "      <td>175.424</td>\n",
       "      <td>174.500</td>\n",
       "      <td>175.010</td>\n",
       "      <td>16349444.0</td>\n",
       "      <td>0.0</td>\n",
       "      <td>1.0</td>\n",
       "      <td>42.022259</td>\n",
       "      <td>42.201241</td>\n",
       "      <td>41.978957</td>\n",
       "      <td>42.101646</td>\n",
       "      <td>65397776.0</td>\n",
       "    </tr>\n",
       "    <tr>\n",
       "      <th>2017-12-26</th>\n",
       "      <td>170.80</td>\n",
       "      <td>171.470</td>\n",
       "      <td>169.679</td>\n",
       "      <td>170.570</td>\n",
       "      <td>33185536.0</td>\n",
       "      <td>0.0</td>\n",
       "      <td>1.0</td>\n",
       "      <td>41.088858</td>\n",
       "      <td>41.250038</td>\n",
       "      <td>40.819183</td>\n",
       "      <td>41.033528</td>\n",
       "      <td>132742144.0</td>\n",
       "    </tr>\n",
       "    <tr>\n",
       "      <th>2017-12-27</th>\n",
       "      <td>170.10</td>\n",
       "      <td>170.780</td>\n",
       "      <td>169.710</td>\n",
       "      <td>170.600</td>\n",
       "      <td>21498213.0</td>\n",
       "      <td>0.0</td>\n",
       "      <td>1.0</td>\n",
       "      <td>40.920461</td>\n",
       "      <td>41.084047</td>\n",
       "      <td>40.826640</td>\n",
       "      <td>41.040745</td>\n",
       "      <td>85992852.0</td>\n",
       "    </tr>\n",
       "    <tr>\n",
       "      <th>2017-12-28</th>\n",
       "      <td>171.00</td>\n",
       "      <td>171.850</td>\n",
       "      <td>170.480</td>\n",
       "      <td>171.080</td>\n",
       "      <td>16480187.0</td>\n",
       "      <td>0.0</td>\n",
       "      <td>1.0</td>\n",
       "      <td>41.136972</td>\n",
       "      <td>41.341454</td>\n",
       "      <td>41.011877</td>\n",
       "      <td>41.156217</td>\n",
       "      <td>65920748.0</td>\n",
       "    </tr>\n",
       "  </tbody>\n",
       "</table>\n",
       "<p>1090 rows × 12 columns</p>\n",
       "</div>"
      ],
      "text/plain": [
       "              Open     High      Low    Close      Volume  Dividend  Split  \\\n",
       "Date                                                                         \n",
       "2013-09-03  493.10  500.600  487.350  488.580  11854600.0       0.0    1.0   \n",
       "2013-09-04  499.56  502.240  496.280  498.691  12322600.0       0.0    1.0   \n",
       "2013-09-05  500.25  500.680  493.640  495.270   8441700.0       0.0    1.0   \n",
       "2013-09-06  498.44  499.380  489.950  498.220  12840200.0       0.0    1.0   \n",
       "2013-09-09  505.00  507.920  503.480  506.170  12167400.0       0.0    1.0   \n",
       "...            ...      ...      ...      ...         ...       ...    ...   \n",
       "2017-12-21  174.17  176.020  174.100  175.010  20949896.0       0.0    1.0   \n",
       "2017-12-22  174.68  175.424  174.500  175.010  16349444.0       0.0    1.0   \n",
       "2017-12-26  170.80  171.470  169.679  170.570  33185536.0       0.0    1.0   \n",
       "2017-12-27  170.10  170.780  169.710  170.600  21498213.0       0.0    1.0   \n",
       "2017-12-28  171.00  171.850  170.480  171.080  16480187.0       0.0    1.0   \n",
       "\n",
       "             Adj_Open   Adj_High    Adj_Low  Adj_Close   Adj_Volume  \n",
       "Date                                                                 \n",
       "2013-09-03  15.619650  15.857223  15.437510  15.476472  331928800.0  \n",
       "2013-09-04  15.824280  15.909173  15.720381  15.796753  345032800.0  \n",
       "2013-09-05  15.846136  15.859757  15.636755  15.688388  236367600.0  \n",
       "2013-09-06  15.788802  15.818578  15.519869  15.781833  359525600.0  \n",
       "2013-09-09  15.996600  16.089095  15.948451  16.033661  340687200.0  \n",
       "...               ...        ...        ...        ...          ...  \n",
       "2017-12-21  41.899570  42.344619  41.882730  42.101646   83799584.0  \n",
       "2017-12-22  42.022259  42.201241  41.978957  42.101646   65397776.0  \n",
       "2017-12-26  41.088858  41.250038  40.819183  41.033528  132742144.0  \n",
       "2017-12-27  40.920461  41.084047  40.826640  41.040745   85992852.0  \n",
       "2017-12-28  41.136972  41.341454  41.011877  41.156217   65920748.0  \n",
       "\n",
       "[1090 rows x 12 columns]"
      ]
     },
     "execution_count": 6,
     "metadata": {},
     "output_type": "execute_result"
    }
   ],
   "source": [
    "df"
   ]
  },
  {
   "cell_type": "code",
   "execution_count": 7,
   "metadata": {},
   "outputs": [
    {
     "data": {
      "text/plain": [
       "1.0    1089\n",
       "7.0       1\n",
       "Name: Split, dtype: int64"
      ]
     },
     "execution_count": 7,
     "metadata": {},
     "output_type": "execute_result"
    }
   ],
   "source": [
    "df['Split'].value_counts()"
   ]
  },
  {
   "cell_type": "code",
   "execution_count": 9,
   "metadata": {},
   "outputs": [
    {
     "data": {
      "text/plain": [
       "0.00    1073\n",
       "0.57       4\n",
       "0.52       4\n",
       "0.47       3\n",
       "0.63       3\n",
       "3.05       2\n",
       "3.29       1\n",
       "Name: Dividend, dtype: int64"
      ]
     },
     "execution_count": 9,
     "metadata": {},
     "output_type": "execute_result"
    }
   ],
   "source": [
    "df['Dividend'].value_counts()"
   ]
  },
  {
   "cell_type": "markdown",
   "metadata": {},
   "source": [
    "# Feature Engineering"
   ]
  },
  {
   "cell_type": "code",
   "execution_count": 12,
   "metadata": {},
   "outputs": [],
   "source": [
    "# 52week High / 52weel low\n",
    "df['HL_PCT'] = (df['Adj_High'] - df['Adj_Low'])/ (df['Adj_Close']*100)\n",
    "\n",
    "# Rate of increase\n",
    "df['PCT_change'] = (df['Adj_Close'] - df['Adj_Open'])/ (df['Adj_Open']*100)"
   ]
  },
  {
   "cell_type": "code",
   "execution_count": 13,
   "metadata": {},
   "outputs": [
    {
     "data": {
      "text/html": [
       "<div>\n",
       "<style scoped>\n",
       "    .dataframe tbody tr th:only-of-type {\n",
       "        vertical-align: middle;\n",
       "    }\n",
       "\n",
       "    .dataframe tbody tr th {\n",
       "        vertical-align: top;\n",
       "    }\n",
       "\n",
       "    .dataframe thead th {\n",
       "        text-align: right;\n",
       "    }\n",
       "</style>\n",
       "<table border=\"1\" class=\"dataframe\">\n",
       "  <thead>\n",
       "    <tr style=\"text-align: right;\">\n",
       "      <th></th>\n",
       "      <th>Open</th>\n",
       "      <th>High</th>\n",
       "      <th>Low</th>\n",
       "      <th>Close</th>\n",
       "      <th>Volume</th>\n",
       "      <th>Dividend</th>\n",
       "      <th>Split</th>\n",
       "      <th>Adj_Open</th>\n",
       "      <th>Adj_High</th>\n",
       "      <th>Adj_Low</th>\n",
       "      <th>Adj_Close</th>\n",
       "      <th>Adj_Volume</th>\n",
       "      <th>HL_PCT</th>\n",
       "      <th>PCT_change</th>\n",
       "    </tr>\n",
       "    <tr>\n",
       "      <th>Date</th>\n",
       "      <th></th>\n",
       "      <th></th>\n",
       "      <th></th>\n",
       "      <th></th>\n",
       "      <th></th>\n",
       "      <th></th>\n",
       "      <th></th>\n",
       "      <th></th>\n",
       "      <th></th>\n",
       "      <th></th>\n",
       "      <th></th>\n",
       "      <th></th>\n",
       "      <th></th>\n",
       "      <th></th>\n",
       "    </tr>\n",
       "  </thead>\n",
       "  <tbody>\n",
       "    <tr>\n",
       "      <th>2013-09-03</th>\n",
       "      <td>493.10</td>\n",
       "      <td>500.60</td>\n",
       "      <td>487.35</td>\n",
       "      <td>488.580</td>\n",
       "      <td>11854600.0</td>\n",
       "      <td>0.0</td>\n",
       "      <td>1.0</td>\n",
       "      <td>15.619650</td>\n",
       "      <td>15.857223</td>\n",
       "      <td>15.437510</td>\n",
       "      <td>15.476472</td>\n",
       "      <td>331928800.0</td>\n",
       "      <td>0.000271</td>\n",
       "      <td>-0.000092</td>\n",
       "    </tr>\n",
       "    <tr>\n",
       "      <th>2013-09-04</th>\n",
       "      <td>499.56</td>\n",
       "      <td>502.24</td>\n",
       "      <td>496.28</td>\n",
       "      <td>498.691</td>\n",
       "      <td>12322600.0</td>\n",
       "      <td>0.0</td>\n",
       "      <td>1.0</td>\n",
       "      <td>15.824280</td>\n",
       "      <td>15.909173</td>\n",
       "      <td>15.720381</td>\n",
       "      <td>15.796753</td>\n",
       "      <td>345032800.0</td>\n",
       "      <td>0.000120</td>\n",
       "      <td>-0.000017</td>\n",
       "    </tr>\n",
       "    <tr>\n",
       "      <th>2013-09-05</th>\n",
       "      <td>500.25</td>\n",
       "      <td>500.68</td>\n",
       "      <td>493.64</td>\n",
       "      <td>495.270</td>\n",
       "      <td>8441700.0</td>\n",
       "      <td>0.0</td>\n",
       "      <td>1.0</td>\n",
       "      <td>15.846136</td>\n",
       "      <td>15.859757</td>\n",
       "      <td>15.636755</td>\n",
       "      <td>15.688388</td>\n",
       "      <td>236367600.0</td>\n",
       "      <td>0.000142</td>\n",
       "      <td>-0.000100</td>\n",
       "    </tr>\n",
       "    <tr>\n",
       "      <th>2013-09-06</th>\n",
       "      <td>498.44</td>\n",
       "      <td>499.38</td>\n",
       "      <td>489.95</td>\n",
       "      <td>498.220</td>\n",
       "      <td>12840200.0</td>\n",
       "      <td>0.0</td>\n",
       "      <td>1.0</td>\n",
       "      <td>15.788802</td>\n",
       "      <td>15.818578</td>\n",
       "      <td>15.519869</td>\n",
       "      <td>15.781833</td>\n",
       "      <td>359525600.0</td>\n",
       "      <td>0.000189</td>\n",
       "      <td>-0.000004</td>\n",
       "    </tr>\n",
       "    <tr>\n",
       "      <th>2013-09-09</th>\n",
       "      <td>505.00</td>\n",
       "      <td>507.92</td>\n",
       "      <td>503.48</td>\n",
       "      <td>506.170</td>\n",
       "      <td>12167400.0</td>\n",
       "      <td>0.0</td>\n",
       "      <td>1.0</td>\n",
       "      <td>15.996600</td>\n",
       "      <td>16.089095</td>\n",
       "      <td>15.948451</td>\n",
       "      <td>16.033661</td>\n",
       "      <td>340687200.0</td>\n",
       "      <td>0.000088</td>\n",
       "      <td>0.000023</td>\n",
       "    </tr>\n",
       "  </tbody>\n",
       "</table>\n",
       "</div>"
      ],
      "text/plain": [
       "              Open    High     Low    Close      Volume  Dividend  Split  \\\n",
       "Date                                                                       \n",
       "2013-09-03  493.10  500.60  487.35  488.580  11854600.0       0.0    1.0   \n",
       "2013-09-04  499.56  502.24  496.28  498.691  12322600.0       0.0    1.0   \n",
       "2013-09-05  500.25  500.68  493.64  495.270   8441700.0       0.0    1.0   \n",
       "2013-09-06  498.44  499.38  489.95  498.220  12840200.0       0.0    1.0   \n",
       "2013-09-09  505.00  507.92  503.48  506.170  12167400.0       0.0    1.0   \n",
       "\n",
       "             Adj_Open   Adj_High    Adj_Low  Adj_Close   Adj_Volume    HL_PCT  \\\n",
       "Date                                                                            \n",
       "2013-09-03  15.619650  15.857223  15.437510  15.476472  331928800.0  0.000271   \n",
       "2013-09-04  15.824280  15.909173  15.720381  15.796753  345032800.0  0.000120   \n",
       "2013-09-05  15.846136  15.859757  15.636755  15.688388  236367600.0  0.000142   \n",
       "2013-09-06  15.788802  15.818578  15.519869  15.781833  359525600.0  0.000189   \n",
       "2013-09-09  15.996600  16.089095  15.948451  16.033661  340687200.0  0.000088   \n",
       "\n",
       "            PCT_change  \n",
       "Date                    \n",
       "2013-09-03   -0.000092  \n",
       "2013-09-04   -0.000017  \n",
       "2013-09-05   -0.000100  \n",
       "2013-09-06   -0.000004  \n",
       "2013-09-09    0.000023  "
      ]
     },
     "execution_count": 13,
     "metadata": {},
     "output_type": "execute_result"
    }
   ],
   "source": [
    "df.head(5)"
   ]
  },
  {
   "cell_type": "code",
   "execution_count": 14,
   "metadata": {},
   "outputs": [
    {
     "data": {
      "text/plain": [
       "<AxesSubplot:>"
      ]
     },
     "execution_count": 14,
     "metadata": {},
     "output_type": "execute_result"
    },
    {
     "data": {
      "image/png": "[encoded data removed]",
      "text/plain": [
       "<Figure size 792x648 with 2 Axes>"
      ]
     },
     "metadata": {
      "needs_background": "light"
     },
     "output_type": "display_data"
    }
   ],
   "source": [
    "corr= df.corr()\n",
    "mask= np.triu(np.ones_like(corr, dtype=bool))\n",
    "cmap= sns.diverging_palette(230, 20, as_cmap=True)\n",
    "\n",
    "fig, ax= plt.subplots(figsize=(11,9))\n",
    "sns.heatmap(corr, mask=mask, cmap=cmap, vmax=0.3, center=0,\n",
    "           square=True, linewidths=0.5, cbar_kws={'shrink': 0.5})"
   ]
  },
  {
   "cell_type": "markdown",
   "metadata": {},
   "source": [
    "# Feature Selection"
   ]
  },
  {
   "cell_type": "code",
   "execution_count": 15,
   "metadata": {},
   "outputs": [
    {
     "data": {
      "text/html": [
       "<div>\n",
       "<style scoped>\n",
       "    .dataframe tbody tr th:only-of-type {\n",
       "        vertical-align: middle;\n",
       "    }\n",
       "\n",
       "    .dataframe tbody tr th {\n",
       "        vertical-align: top;\n",
       "    }\n",
       "\n",
       "    .dataframe thead th {\n",
       "        text-align: right;\n",
       "    }\n",
       "</style>\n",
       "<table border=\"1\" class=\"dataframe\">\n",
       "  <thead>\n",
       "    <tr style=\"text-align: right;\">\n",
       "      <th></th>\n",
       "      <th>Adj_Close</th>\n",
       "      <th>Adj_Volume</th>\n",
       "      <th>HL_PCT</th>\n",
       "      <th>PCT_change</th>\n",
       "    </tr>\n",
       "    <tr>\n",
       "      <th>Date</th>\n",
       "      <th></th>\n",
       "      <th></th>\n",
       "      <th></th>\n",
       "      <th></th>\n",
       "    </tr>\n",
       "  </thead>\n",
       "  <tbody>\n",
       "    <tr>\n",
       "      <th>2013-09-03</th>\n",
       "      <td>15.476472</td>\n",
       "      <td>331928800.0</td>\n",
       "      <td>0.000271</td>\n",
       "      <td>-0.000092</td>\n",
       "    </tr>\n",
       "    <tr>\n",
       "      <th>2013-09-04</th>\n",
       "      <td>15.796753</td>\n",
       "      <td>345032800.0</td>\n",
       "      <td>0.000120</td>\n",
       "      <td>-0.000017</td>\n",
       "    </tr>\n",
       "    <tr>\n",
       "      <th>2013-09-05</th>\n",
       "      <td>15.688388</td>\n",
       "      <td>236367600.0</td>\n",
       "      <td>0.000142</td>\n",
       "      <td>-0.000100</td>\n",
       "    </tr>\n",
       "    <tr>\n",
       "      <th>2013-09-06</th>\n",
       "      <td>15.781833</td>\n",
       "      <td>359525600.0</td>\n",
       "      <td>0.000189</td>\n",
       "      <td>-0.000004</td>\n",
       "    </tr>\n",
       "    <tr>\n",
       "      <th>2013-09-09</th>\n",
       "      <td>16.033661</td>\n",
       "      <td>340687200.0</td>\n",
       "      <td>0.000088</td>\n",
       "      <td>0.000023</td>\n",
       "    </tr>\n",
       "    <tr>\n",
       "      <th>...</th>\n",
       "      <td>...</td>\n",
       "      <td>...</td>\n",
       "      <td>...</td>\n",
       "      <td>...</td>\n",
       "    </tr>\n",
       "    <tr>\n",
       "      <th>2017-12-21</th>\n",
       "      <td>42.101646</td>\n",
       "      <td>83799584.0</td>\n",
       "      <td>0.000110</td>\n",
       "      <td>0.000048</td>\n",
       "    </tr>\n",
       "    <tr>\n",
       "      <th>2017-12-22</th>\n",
       "      <td>42.101646</td>\n",
       "      <td>65397776.0</td>\n",
       "      <td>0.000053</td>\n",
       "      <td>0.000019</td>\n",
       "    </tr>\n",
       "    <tr>\n",
       "      <th>2017-12-26</th>\n",
       "      <td>41.033528</td>\n",
       "      <td>132742144.0</td>\n",
       "      <td>0.000105</td>\n",
       "      <td>-0.000013</td>\n",
       "    </tr>\n",
       "    <tr>\n",
       "      <th>2017-12-27</th>\n",
       "      <td>41.040745</td>\n",
       "      <td>85992852.0</td>\n",
       "      <td>0.000063</td>\n",
       "      <td>0.000029</td>\n",
       "    </tr>\n",
       "    <tr>\n",
       "      <th>2017-12-28</th>\n",
       "      <td>41.156217</td>\n",
       "      <td>65920748.0</td>\n",
       "      <td>0.000080</td>\n",
       "      <td>0.000005</td>\n",
       "    </tr>\n",
       "  </tbody>\n",
       "</table>\n",
       "<p>1090 rows × 4 columns</p>\n",
       "</div>"
      ],
      "text/plain": [
       "            Adj_Close   Adj_Volume    HL_PCT  PCT_change\n",
       "Date                                                    \n",
       "2013-09-03  15.476472  331928800.0  0.000271   -0.000092\n",
       "2013-09-04  15.796753  345032800.0  0.000120   -0.000017\n",
       "2013-09-05  15.688388  236367600.0  0.000142   -0.000100\n",
       "2013-09-06  15.781833  359525600.0  0.000189   -0.000004\n",
       "2013-09-09  16.033661  340687200.0  0.000088    0.000023\n",
       "...               ...          ...       ...         ...\n",
       "2017-12-21  42.101646   83799584.0  0.000110    0.000048\n",
       "2017-12-22  42.101646   65397776.0  0.000053    0.000019\n",
       "2017-12-26  41.033528  132742144.0  0.000105   -0.000013\n",
       "2017-12-27  41.040745   85992852.0  0.000063    0.000029\n",
       "2017-12-28  41.156217   65920748.0  0.000080    0.000005\n",
       "\n",
       "[1090 rows x 4 columns]"
      ]
     },
     "execution_count": 15,
     "metadata": {},
     "output_type": "execute_result"
    }
   ],
   "source": [
    "df1= df[['Adj_Close', 'Adj_Volume', 'HL_PCT', 'PCT_change']]\n",
    "df1"
   ]
  },
  {
   "cell_type": "code",
   "execution_count": 19,
   "metadata": {},
   "outputs": [
    {
     "data": {
      "text/plain": [
       "<AxesSubplot:xlabel='Date'>"
      ]
     },
     "execution_count": 19,
     "metadata": {},
     "output_type": "execute_result"
    },
    {
     "data": {
      "image/png": "[encoded data removed]",
      "text/plain": [
       "<Figure size 1080x576 with 1 Axes>"
      ]
     },
     "metadata": {
      "needs_background": "light"
     },
     "output_type": "display_data"
    }
   ],
   "source": [
    "df1['Adj_Close'].pct_change().plot(figsize = (15,8),grid = True)"
   ]
  },
  {
   "cell_type": "code",
   "execution_count": 20,
   "metadata": {},
   "outputs": [
    {
     "data": {
      "text/plain": [
       "<AxesSubplot:title={'center':'Closing'}, xlabel='Dates', ylabel='Close Prices'>"
      ]
     },
     "execution_count": 20,
     "metadata": {},
     "output_type": "execute_result"
    },
    {
     "data": {
      "image/png": "[encoded data removed]",
      "text/plain": [
       "<Figure size 1080x576 with 1 Axes>"
      ]
     },
     "metadata": {
      "needs_background": "light"
     },
     "output_type": "display_data"
    }
   ],
   "source": [
    "df1['Adj_Close'].plot(figsize=(15,8), grid=True, xlabel='Dates', ylabel='Close Prices', title='Closing')"
   ]
  },
  {
   "cell_type": "code",
   "execution_count": 21,
   "metadata": {},
   "outputs": [
    {
     "data": {
      "text/html": [
       "<div>\n",
       "<style scoped>\n",
       "    .dataframe tbody tr th:only-of-type {\n",
       "        vertical-align: middle;\n",
       "    }\n",
       "\n",
       "    .dataframe tbody tr th {\n",
       "        vertical-align: top;\n",
       "    }\n",
       "\n",
       "    .dataframe thead th {\n",
       "        text-align: right;\n",
       "    }\n",
       "</style>\n",
       "<table border=\"1\" class=\"dataframe\">\n",
       "  <thead>\n",
       "    <tr style=\"text-align: right;\">\n",
       "      <th></th>\n",
       "      <th>Adj_Close</th>\n",
       "      <th>Adj_Volume</th>\n",
       "      <th>HL_PCT</th>\n",
       "      <th>PCT_change</th>\n",
       "    </tr>\n",
       "  </thead>\n",
       "  <tbody>\n",
       "    <tr>\n",
       "      <th>Adj_Close</th>\n",
       "      <td>1.000000</td>\n",
       "      <td>-0.553474</td>\n",
       "      <td>-0.137288</td>\n",
       "      <td>0.025237</td>\n",
       "    </tr>\n",
       "    <tr>\n",
       "      <th>Adj_Volume</th>\n",
       "      <td>-0.553474</td>\n",
       "      <td>1.000000</td>\n",
       "      <td>0.512480</td>\n",
       "      <td>-0.079556</td>\n",
       "    </tr>\n",
       "    <tr>\n",
       "      <th>HL_PCT</th>\n",
       "      <td>-0.137288</td>\n",
       "      <td>0.512480</td>\n",
       "      <td>1.000000</td>\n",
       "      <td>-0.060349</td>\n",
       "    </tr>\n",
       "    <tr>\n",
       "      <th>PCT_change</th>\n",
       "      <td>0.025237</td>\n",
       "      <td>-0.079556</td>\n",
       "      <td>-0.060349</td>\n",
       "      <td>1.000000</td>\n",
       "    </tr>\n",
       "  </tbody>\n",
       "</table>\n",
       "</div>"
      ],
      "text/plain": [
       "            Adj_Close  Adj_Volume    HL_PCT  PCT_change\n",
       "Adj_Close    1.000000   -0.553474 -0.137288    0.025237\n",
       "Adj_Volume  -0.553474    1.000000  0.512480   -0.079556\n",
       "HL_PCT      -0.137288    0.512480  1.000000   -0.060349\n",
       "PCT_change   0.025237   -0.079556 -0.060349    1.000000"
      ]
     },
     "execution_count": 21,
     "metadata": {},
     "output_type": "execute_result"
    }
   ],
   "source": [
    "df1.corr()"
   ]
  },
  {
   "cell_type": "code",
   "execution_count": 22,
   "metadata": {},
   "outputs": [
    {
     "data": {
      "text/plain": [
       "Adj_Close     0\n",
       "Adj_Volume    0\n",
       "HL_PCT        0\n",
       "PCT_change    0\n",
       "dtype: int64"
      ]
     },
     "execution_count": 22,
     "metadata": {},
     "output_type": "execute_result"
    }
   ],
   "source": [
    "df1.isnull().sum()"
   ]
  },
  {
   "cell_type": "code",
   "execution_count": 23,
   "metadata": {},
   "outputs": [
    {
     "data": {
      "text/plain": [
       "Date\n",
       "2013-09-03    15.476472\n",
       "2013-09-04    15.796753\n",
       "2013-09-05    15.688388\n",
       "2013-09-06    15.781833\n",
       "2013-09-09    16.033661\n",
       "                ...    \n",
       "2017-12-21    42.101646\n",
       "2017-12-22    42.101646\n",
       "2017-12-26    41.033528\n",
       "2017-12-27    41.040745\n",
       "2017-12-28    41.156217\n",
       "Name: Adj_Close, Length: 1090, dtype: float64"
      ]
     },
     "execution_count": 23,
     "metadata": {},
     "output_type": "execute_result"
    }
   ],
   "source": [
    "df1['Adj_Close']"
   ]
  },
  {
   "cell_type": "code",
   "execution_count": 26,
   "metadata": {},
   "outputs": [
    {
     "data": {
      "text/plain": [
       "Date\n",
       "2017-12-12    41.040745\n",
       "2017-12-13    41.156217\n",
       "2017-12-14          NaN\n",
       "2017-12-15          NaN\n",
       "2017-12-18          NaN\n",
       "2017-12-19          NaN\n",
       "2017-12-20          NaN\n",
       "2017-12-21          NaN\n",
       "2017-12-22          NaN\n",
       "2017-12-26          NaN\n",
       "2017-12-27          NaN\n",
       "2017-12-28          NaN\n",
       "Name: Adj_Close, dtype: float64"
      ]
     },
     "execution_count": 26,
     "metadata": {},
     "output_type": "execute_result"
    }
   ],
   "source": [
    "label = df1['Adj_Close'].shift(-10)\n",
    "label.tail(12)"
   ]
  },
  {
   "cell_type": "code",
   "execution_count": 27,
   "metadata": {},
   "outputs": [
    {
     "data": {
      "text/plain": [
       "Date\n",
       "2013-09-03    14.422914\n",
       "2013-09-04    14.719406\n",
       "2013-09-05    14.960780\n",
       "2013-09-06    14.805882\n",
       "2013-09-09    15.541726\n",
       "                ...    \n",
       "2017-12-07    42.101646\n",
       "2017-12-08    42.101646\n",
       "2017-12-11    41.033528\n",
       "2017-12-12    41.040745\n",
       "2017-12-13    41.156217\n",
       "Name: Adj_Close, Length: 1080, dtype: float64"
      ]
     },
     "execution_count": 27,
     "metadata": {},
     "output_type": "execute_result"
    }
   ],
   "source": [
    "label.dropna()"
   ]
  },
  {
   "cell_type": "markdown",
   "metadata": {},
   "source": [
    "# Data preparation for model training"
   ]
  },
  {
   "cell_type": "code",
   "execution_count": 28,
   "metadata": {},
   "outputs": [],
   "source": [
    "X= df[['Adj_Open', 'Adj_High', 'Adj_Low', 'Adj_Volume', 'HL_PCT', 'PCT_change']]\n",
    "\n",
    "#X= df[['Adj_Open', 'Adj_High', 'Adj_Low', 'Adj_Volume']]\n",
    "\n",
    "#X= df1[['Adj_Volume', 'HL_PCT', 'PCT_change']]\n",
    "y= label.dropna()"
   ]
  },
  {
   "cell_type": "code",
   "execution_count": 29,
   "metadata": {},
   "outputs": [
    {
     "name": "stdout",
     "output_type": "stream",
     "text": [
      "(1090, 6)\n",
      "(1080,)\n",
      "<class 'pandas.core.frame.DataFrame'>\n",
      "<class 'pandas.core.series.Series'>\n"
     ]
    }
   ],
   "source": [
    "print(X.shape)\n",
    "print(y.shape)\n",
    "\n",
    "print(type(X))\n",
    "print(type(y))"
   ]
  },
  {
   "cell_type": "code",
   "execution_count": 30,
   "metadata": {},
   "outputs": [],
   "source": [
    "X_lately= X[-10:]\n",
    "X= X[:-10]"
   ]
  },
  {
   "cell_type": "code",
   "execution_count": 31,
   "metadata": {},
   "outputs": [
    {
     "name": "stdout",
     "output_type": "stream",
     "text": [
      "(1080, 6)\n",
      "(10, 6)\n"
     ]
    }
   ],
   "source": [
    "print(X.shape)\n",
    "print(X_lately.shape)"
   ]
  },
  {
   "cell_type": "code",
   "execution_count": 32,
   "metadata": {},
   "outputs": [],
   "source": [
    "from sklearn.model_selection import train_test_split\n",
    "from sklearn.preprocessing import MinMaxScaler"
   ]
  },
  {
   "cell_type": "code",
   "execution_count": 34,
   "metadata": {},
   "outputs": [],
   "source": [
    "X_train, X_test, y_train, y_test = train_test_split(X, y, test_size=0.3, random_state=54)\n",
    "norm= MinMaxScaler().fit(X_train)\n",
    "\n",
    "X_train= norm.transform(X_train)\n",
    "X_test= norm.transform(X_test)\n",
    "X_lately= norm.transform(X_lately)"
   ]
  },
  {
   "cell_type": "markdown",
   "metadata": {},
   "source": [
    "# Model Evaluation"
   ]
  },
  {
   "cell_type": "code",
   "execution_count": 35,
   "metadata": {},
   "outputs": [],
   "source": [
    "from sklearn.linear_model import LinearRegression\n",
    "from sklearn.metrics import mean_squared_error"
   ]
  },
  {
   "cell_type": "code",
   "execution_count": 36,
   "metadata": {},
   "outputs": [
    {
     "name": "stdout",
     "output_type": "stream",
     "text": [
      "train score:  0.9716928791606467\n",
      "test score:  0.963337820462543\n"
     ]
    }
   ],
   "source": [
    "lin_reg= LinearRegression()\n",
    "lin_reg.fit(X_train, y_train)\n",
    "print('train score: ', lin_reg.score(X_train, y_train))\n",
    "print('test score: ', lin_reg.score(X_test, y_test))"
   ]
  },
  {
   "cell_type": "code",
   "execution_count": 37,
   "metadata": {},
   "outputs": [
    {
     "data": {
      "text/html": [
       "<div>\n",
       "<style scoped>\n",
       "    .dataframe tbody tr th:only-of-type {\n",
       "        vertical-align: middle;\n",
       "    }\n",
       "\n",
       "    .dataframe tbody tr th {\n",
       "        vertical-align: top;\n",
       "    }\n",
       "\n",
       "    .dataframe thead th {\n",
       "        text-align: right;\n",
       "    }\n",
       "</style>\n",
       "<table border=\"1\" class=\"dataframe\">\n",
       "  <thead>\n",
       "    <tr style=\"text-align: right;\">\n",
       "      <th></th>\n",
       "      <th>features</th>\n",
       "      <th>estimated coefficients</th>\n",
       "    </tr>\n",
       "  </thead>\n",
       "  <tbody>\n",
       "    <tr>\n",
       "      <th>0</th>\n",
       "      <td>Adj_Open</td>\n",
       "      <td>-10.265841</td>\n",
       "    </tr>\n",
       "    <tr>\n",
       "      <th>1</th>\n",
       "      <td>Adj_High</td>\n",
       "      <td>0.067372</td>\n",
       "    </tr>\n",
       "    <tr>\n",
       "      <th>2</th>\n",
       "      <td>Adj_Low</td>\n",
       "      <td>38.129795</td>\n",
       "    </tr>\n",
       "    <tr>\n",
       "      <th>3</th>\n",
       "      <td>Adj_Volume</td>\n",
       "      <td>-0.153062</td>\n",
       "    </tr>\n",
       "    <tr>\n",
       "      <th>4</th>\n",
       "      <td>HL_PCT</td>\n",
       "      <td>0.931940</td>\n",
       "    </tr>\n",
       "    <tr>\n",
       "      <th>5</th>\n",
       "      <td>PCT_change</td>\n",
       "      <td>0.561219</td>\n",
       "    </tr>\n",
       "  </tbody>\n",
       "</table>\n",
       "</div>"
      ],
      "text/plain": [
       "     features  estimated coefficients\n",
       "0    Adj_Open              -10.265841\n",
       "1    Adj_High                0.067372\n",
       "2     Adj_Low               38.129795\n",
       "3  Adj_Volume               -0.153062\n",
       "4      HL_PCT                0.931940\n",
       "5  PCT_change                0.561219"
      ]
     },
     "execution_count": 37,
     "metadata": {},
     "output_type": "execute_result"
    }
   ],
   "source": [
    "coef_df= pd.DataFrame(zip(X.columns, lin_reg.coef_), columns= ['features', 'estimated coefficients'])\n",
    "coef_df"
   ]
  },
  {
   "cell_type": "code",
   "execution_count": 38,
   "metadata": {},
   "outputs": [
    {
     "name": "stdout",
     "output_type": "stream",
     "text": [
      "MSE:  1.4586316194613114\n",
      "forecast\n",
      " [41.78144154 41.9682596  42.75637457 42.32080317 42.12936533 42.51104362\n",
      " 42.49831118 41.28931643 41.3409098  41.52448571]\n"
     ]
    }
   ],
   "source": [
    "y_pred= lin_reg.predict(X_test)\n",
    "print('MSE: ', mean_squared_error(y_test, y_pred))\n",
    "\n",
    "forecast= lin_reg.predict(X_lately)\n",
    "print('forecast\\n', forecast)"
   ]
  },
  {
   "cell_type": "code",
   "execution_count": null,
   "metadata": {},
   "outputs": [],
   "source": [
    "#X= df2[['Adj_Volume', 'HL_PCT', 'PCT_change']]\n",
    "#MSE:  26.666838079762233\n",
    "\n",
    "#X= df[['Adj_Open', 'Adj_High', 'Adj_Low', 'Adj_Volume']]\n",
    "#MSE:  1.465427587363724\n",
    "\n",
    "\n",
    "#X= df[['Adj_Open', 'Adj_High', 'Adj_Low', 'Adj_Volume', 'HL_PCT', 'PCT_change']]\n",
    "#MSE:  1.4586316194613114"
   ]
  }
 ],
 "metadata": {
  "kernelspec": {
   "display_name": "Python 3",
   "language": "python",
   "name": "python3"
  },
  "language_info": {
   "codemirror_mode": {
    "name": "ipython",
    "version": 3
   },
   "file_extension": ".py",
   "mimetype": "text/x-python",
   "name": "python",
   "nbconvert_exporter": "python",
   "pygments_lexer": "ipython3",
   "version": "3.8.5"
  }
 },
 "nbformat": 4,
 "nbformat_minor": 4
}
